{
  "nbformat": 4,
  "nbformat_minor": 0,
  "metadata": {
    "colab": {
      "provenance": []
    },
    "kernelspec": {
      "name": "python3",
      "display_name": "Python 3"
    },
    "language_info": {
      "name": "python"
    }
  },
  "cells": [
    {
      "cell_type": "markdown",
      "source": [
        "# Files, exceptional handling, logging and memory, management"
      ],
      "metadata": {
        "id": "rZ8ixWls0_Lh"
      }
    },
    {
      "cell_type": "markdown",
      "source": [
        "1.  What is the difference between interpreted and compiled languages?\n",
        "- Compiled languages translate the entire program into machine code (or an intermediate representation like bytecode) at once before execution, while interpreted languages translate the code line by line during execution.\n",
        "   * Compiled Languages:-\n",
        "     - Compilation:- The entire source code is translated into machine code (or an intermediate form) by a compile\n",
        "     - Execution:- The resulting machine code is then executed by the CPU.\n",
        "     - Performance:- Generally faster as the code is already translated and optimized.\n",
        "     - Examples: C, C++, C#, Go.\n",
        "\n",
        "   * Interpreted Languages:-\n",
        "     - Interpretation: The source code is translated and executed line by line by an interpreter during runtime.\n",
        "     - Execution: The interpreter reads, analyzes, and executes each line of code sequentially.\n",
        "     - Performance: Generally slower as the code is translated on the fly.\n",
        "     - Examples: Python, JavaScript, Ruby, PHP.\n",
        "\n",
        "2. What is exception handling in Python?\n",
        " - Exception handling in Python is a mechanism to manage errors that occur during the execution of a program. When an error, or exception, arises, it can disrupt the normal flow of the program. Exception handling allows the program to respond to these errors gracefully, preventing crashes and ensuring a more robust user experience.\n",
        "\n",
        "3. What is the purpose of the finally block in exception handling?\n",
        "-  The purpose of the finally block in exception handling is to ensure that a specific block of code is always executed, regardless of whether an exception occurs in the preceding try block, or if any exception handling catch blocks are triggered. It's crucial for guaranteeing that critical cleanup actions, such as closing files or releasing resources, are performed consistently, even in the face of unexpected errors.\n",
        "\n",
        "4. What is logging in Python?\n",
        "- Logging is a means of tracking events that happen when some software runs. The software's developer adds logging calls to their code to indicate that certain events have occurred.\n",
        "\n",
        "5. What is the significance of the __del__ method in Python?\n",
        "- The __del__ method in Python, often referred to as a destructor, is called when an object is garbage collected, meaning it's about to be destroyed because there are no more references to it. Its primary significance lies in its ability to facilitate resource cleanup before an object's memory is reclaimed.\n",
        "\n",
        "6. What is the difference between import and from ... import in Python?\n",
        "- The import statement and the from ... import statement in Python serve different purposes in how they bring external code into your current scope.\n",
        "\n",
        "* import :-\n",
        "This statement imports the entire module. To access functions or classes within the module, you need to use the module name as a prefix (e.g., module_name.function_name()). It keeps the namespace clean and avoids naming conflicts, especially in larger projects.\n",
        "\n",
        "* from....import :-\n",
        "This statement imports specific objects (functions, classes, variables) directly into the current namespace. You can then use these objects without the module name prefix (e.g., function_name()). This can be more convenient for smaller scripts or when using only a few items from a module, but it can lead to naming conflicts if multiple modules define the same names.\n",
        "\n",
        "7. How can you handle multiple exceptions in Python?\n",
        "- handle multipal exceptions in python.\n",
        "  * Use the try-except statement to check for exceptions.\n",
        "\n",
        "  * Catch multiple exceptions by grouping them within a tuple. try: # code that might throw multiple distinct exceptions x = 1 / 0 except (ZeroDivisionError, KeyError, TypeError) as e: print(f\"Caught an exception: {e}\"\n",
        "\n",
        "8. What is the purpose of the with statement when handling files in Python?\n",
        "- The with statement in Python is used to simplify the management of resources that need to be acquired and released in a specific order. It provides a way to wrap the execution of a block of code with methods defined by a context manager.\n",
        "\n",
        "9. What is the difference between multithreading and multiprocessing?\n",
        "- Multithreading and multiprocessing are both techniques to run multiple tasks concurrently, but they differ in how they achieve this. Multithreading creates multiple threads within a single process, allowing for concurrent execution within that process, while multiprocessing creates multiple processes, each with its own resources, enabling parallel execution across multiple processors.\n",
        "\n",
        "10. What are the advantages of using logging in a program?\n",
        "- A large part of software developers' lives is monitoring, troubleshooting and debugging. Logging makes this a much easier and smoother process. Generally, developers don't write any code that logs meaningful and relevant messages for the feature they are writing.\n",
        "\n",
        "11. What is memory management in Python?\n",
        "- You can classify memory management in Python in one of two ways: dynamic allocation or static allocation. Dynamic allocation occurs as the program is running. This means that as the program operates, it can dynamically determine where to allocate memory while reusing and releasing it.\n",
        "\n",
        "12. What are the basic steps involved in exception handling in Python?\n",
        "- In Python, exceptions are caught and handled using the 'try' and 'except' block. 'try' contains the code segment which is susceptible to error, while 'except' is where the program should jump in case an exception occurs. You can use multiple 'except' blocks for handling different types of exceptions.\n",
        "\n",
        "13. Why is memory management important in Python?\n",
        "- Memory management is important in Python because it ensures efficient use of system resources, prevents memory leaks, and ultimately contributes to the stability and performance of programs. Python automates memory management through techniques like reference counting and garbage collection, handling memory allocation and deallocation for objects. This automatic approach simplifies development by freeing programmers from manual memory management, which is common in languages like C or C++.\n",
        "\n",
        "14. What is the role of try and except in exception handling?\n",
        "- In exception handling, try and except blocks work together to gracefully handle errors or exceptions that may occur during code execution. The try block contains the code that might potentially raise an exception, and the except block contains the code that will be executed if an exception is raised within the try block. This allows the program to continue running instead of crashing when an error occurs.\n",
        "\n",
        "15. How does Python's garbage collection system work?\n",
        "- Python's garbage collection works through a hybrid approach, primarily using reference counting and augmented by a generational garbage collector. Reference counting tracks how many variables are pointing to an object, and when an object's reference count reaches zero, it's eligible for deallocation. The generational garbage collector, using a mark-and-sweep algorithm, identifies and cleans up objects in a process that categorizes objects based on their age, with younger objects collected more frequently.\n",
        "\n",
        "16. What is the purpose of the else block in exception handling?\n",
        "- The else block in exception handling, often used in try...except...else structures, executes only when no exceptions are raised within the try block. It provides a way to execute code that's intended to run when the try block executes successfully, effectively separating normal execution from exception handling.\n",
        "\n",
        "17. What are the common logging levels in Python?\n",
        "- Python's logging module provides a set of standard logging levels to categorize events by severity. These levels, in ascending order of severity, are:-\n",
        "\n",
        "* DEBUG (10):- Detailed information, typically used for diagnosing problems.\n",
        "\n",
        "* INFO (20):- Confirmation that things are working as expected.\n",
        "\n",
        "* WARNING (30):- Indication that something unexpected happened or might happen in the future, but the program can still function.\n",
        "\n",
        "* ERROR (40):- Signifies a more serious problem that prevented a function from executing correctly.\n",
        "\n",
        "* CRITICAL (50):- Denotes a severe error that might cause the program to terminate.\n",
        "\n",
        "When configuring the logging level, messages of that level and higher severity will be logged. For example, setting the level to INFO will include INFO, WARNING, ERROR, and CRITICAL messages, while DEBUG messages will be ignored.\n",
        "\n",
        "18. What is the difference between os.fork() and multiprocessing in Python?\n",
        "- The differences between os.fork() and the multiprocessing module in Python are related to portability, functionality, and complexity.\n",
        "   * os.fork()\n",
        "\n",
        "    Portability :- Unix-like systems only.\n",
        "\n",
        "    Functionality :- Creates a copy of the parent process.\n",
        "\n",
        "    Complexity :- Low-level, requires manual resource management.\n",
        "\n",
        "    Thread Safety :- Can lead to deadlocks in multithreaded code.\n",
        "\n",
        "    Use Cases :- Low-level system programming, specific Unix tasks.\n",
        "\n",
        "  * multiprocessing\n",
        "\n",
        "    Portability :- Cross-platform.\n",
        "\n",
        "    Functionality :- Offers different start methods and process management tools.\n",
        "    \n",
        "    Complexity :- High-level, simplifies process management.\n",
        "\n",
        "    Thread Safety :- Safer start methods available.\n",
        "\n",
        "    Use Cases :- Parallel processing, CPU-bound tasks, general multiprocessing.\n",
        "\n",
        "19. What is the importance of closing a file in Python?\n",
        "- Closing files in Python is an essential practice that helps maintain data integrity, prevent resource leaks, and ensure the reliability of your applications. By mastering file handling techniques, you can write more robust and efficient Python code that effectively manages file resources.\n",
        "\n",
        "20. What is the difference between file.read() and file.readline() in Python?\n",
        "-  difference between file.read() and file.readline() in Python.\n",
        "   * file.read()\n",
        "\n",
        "    Reading behavior:- Reads the entire file or a specified number of characters.\n",
        "\n",
        "    Return type:- String\n",
        "\n",
        "    Memory usage:- Can consume more memory for large files\n",
        "\n",
        "    Use case:- Reading the whole file content at once\n",
        "\n",
        "  * file.readline()\n",
        "\n",
        "    Reading behavior:- Reads a single line\n",
        "\n",
        "    Return type:- String\n",
        "\n",
        "    Memory usage:- More memory-efficient for large files as it reads line by line\n",
        "\n",
        "    Use case:- Processing files line by line, e.g., parsing data, reading specific lines\n",
        "\n",
        "21. What is the logging module in Python used for?\n",
        "- The logging module in Python is used for recording events and debugging issues during application execution. It provides a flexible system for logging messages, including errors, warnings, and informational messages, to various output destinations like files or the console.\n",
        "\n",
        "22.  What is the os module in Python used for in file handling?\n",
        "- The OS module in Python is an indispensable tool for handling file-related tasks for programmers. The Python OS module is essential for file-related tasks, enabling efficient file and directory management in programs.\n",
        "\n",
        "23. What are the challenges associated with memory management in Python?\n",
        "- Memory management in Python can present several challenges.\n",
        "\n",
        "   * Garbage Collection: Python uses a system of reference counting for memory management. However, it can struggle with circular references, where objects refer to each other, causing memory leaks.\n",
        "\n",
        "   * Memory Consumption: Python's simplicity leads to greater memory consumption. For instance, storing large amounts of data in Python can consume more memory than in other languages.\n",
        "\n",
        "  * GIL (Global Interpreter Lock): This is a mechanism used in Python's memory management which allows only one thread to execute at a time in a single process, which can lead to performance issues in multi-threaded applications.\n",
        "\n",
        "24. How do you raise an exception manually in Python?\n",
        "- To manually raise an exception in Python, use the raise statement. Here is an example of how to use it: Copied! In this example, the calculate_payment function raises a ValueError exception if the payment_type is not either \"Visa\" or \"Mastercard.\n",
        "\n",
        "25. Why is it important to use multithreading in certain applications?\n",
        "- Multithreading is important in applications that benefit from concurrent execution of tasks, improved responsiveness, and efficient resource utilization. By breaking down a program into smaller, independent threads, applications can perform multiple operations simultaneously, leading to faster execution, smoother user interfaces, and better utilization of CPU cores.\n",
        "\n",
        "\n",
        "\n",
        "\n",
        "    \n",
        "\n",
        "\n",
        "\n",
        "\n",
        "\n",
        "   "
      ],
      "metadata": {
        "id": "a2kxQ65j1Ryg"
      }
    },
    {
      "cell_type": "code",
      "execution_count": null,
      "metadata": {
        "id": "-30rO0OZ06hH"
      },
      "outputs": [],
      "source": []
    },
    {
      "cell_type": "markdown",
      "source": [
        "\n",
        "# Practical Questions\n",
        "\n"
      ],
      "metadata": {
        "id": "lZfZ-xecVTqI"
      }
    },
    {
      "cell_type": "markdown",
      "source": [
        "1. How can you open a file for writing in Python and write a string to it?\n",
        "-"
      ],
      "metadata": {
        "id": "trnnSlgAVn98"
      }
    },
    {
      "cell_type": "code",
      "source": [
        "# Open the file in write mode ('w') – this will create the file if it doesn't exist, or overwrite it if it does\n",
        "with open('example.txt', 'w') as file:\n",
        "    file.write('Hello, world!')\n"
      ],
      "metadata": {
        "id": "MDQEkPZskWhk"
      },
      "execution_count": null,
      "outputs": []
    },
    {
      "cell_type": "code",
      "source": [
        "file = open('filename.txt', 'w')\n",
        "file.write('Hello, World!')\n",
        "file.close()\n"
      ],
      "metadata": {
        "id": "q5DDcolTg_hY"
      },
      "execution_count": null,
      "outputs": []
    },
    {
      "cell_type": "markdown",
      "source": [
        "2. Write a Python program to read the contents of a file and print each line."
      ],
      "metadata": {
        "id": "kaNRpO9AV6cp"
      }
    },
    {
      "cell_type": "code",
      "source": [
        "def read_file_lines(filename):\n",
        "    try:\n",
        "        with open(filename, 'r') as file:\n",
        "            for line in file:\n",
        "                print(line.strip())  # strip() removes the newline character\n",
        "    except Exception as e:\n",
        "        print(f\"Error reading file: {e}\")\n",
        "\n",
        "# Example usage\n",
        "read_file_lines('example.txt')\n"
      ],
      "metadata": {
        "colab": {
          "base_uri": "https://localhost:8080/"
        },
        "id": "cLecugTEkrc_",
        "outputId": "f0c9a8b4-15b6-47a2-a274-bde106d91dba"
      },
      "execution_count": null,
      "outputs": [
        {
          "output_type": "stream",
          "name": "stdout",
          "text": [
            "Hello, world!\n"
          ]
        }
      ]
    },
    {
      "cell_type": "markdown",
      "source": [
        "3. How would you handle a case where the file doesn't exist while trying to open it for reading?"
      ],
      "metadata": {
        "id": "AIQQtjJ5k_RD"
      }
    },
    {
      "cell_type": "code",
      "source": [
        "def read_file_safe(filename):\n",
        "    try:\n",
        "        with open(filename, 'r') as file:\n",
        "            contents = file.read()\n",
        "            print(contents)\n",
        "    except FileNotFoundError:\n",
        "        print(f\"Error: The file '{filename}' does not exist.\")\n",
        "    except Exception as e:\n",
        "        print(f\"An unexpected error occurred: {e}\")\n",
        "\n",
        "# Example usage\n",
        "read_file_safe('nonexistent_file.txt')\n"
      ],
      "metadata": {
        "colab": {
          "base_uri": "https://localhost:8080/"
        },
        "id": "u44ohuRklLlk",
        "outputId": "c6548241-e0d0-4456-ff65-62114103019e"
      },
      "execution_count": null,
      "outputs": [
        {
          "output_type": "stream",
          "name": "stdout",
          "text": [
            "Error: The file 'nonexistent_file.txt' does not exist.\n"
          ]
        }
      ]
    },
    {
      "cell_type": "markdown",
      "source": [
        "4. Write a Python script that reads from one file and writes its content to another file."
      ],
      "metadata": {
        "id": "_OMJ6GyslMH8"
      }
    },
    {
      "cell_type": "code",
      "source": [
        "def copy_file(source_file, destination_file):\n",
        "    try:\n",
        "        with open(source_file, 'r') as src:\n",
        "            content = src.read()\n",
        "\n",
        "        with open(destination_file, 'w') as dest:\n",
        "            dest.write(content)\n",
        "\n",
        "        print(f\"Contents copied from '{source_file}' to '{destination_file}'.\")\n",
        "    except FileNotFoundError:\n",
        "        print(f\"Error: The source file '{source_file}' does not exist.\")\n",
        "    except Exception as e:\n",
        "        print(f\"An unexpected error occurred: {e}\")\n",
        "\n",
        "# Example usage\n",
        "copy_file('input.txt', 'output.txt')\n"
      ],
      "metadata": {
        "colab": {
          "base_uri": "https://localhost:8080/"
        },
        "id": "CGH1hqNclfMb",
        "outputId": "e261e4d0-27b5-4151-85e6-9ca8da8a2c01"
      },
      "execution_count": null,
      "outputs": [
        {
          "output_type": "stream",
          "name": "stdout",
          "text": [
            "Error: The source file 'input.txt' does not exist.\n"
          ]
        }
      ]
    },
    {
      "cell_type": "markdown",
      "source": [
        "5. How would you catch and handle division by zero error in Python?"
      ],
      "metadata": {
        "id": "tHO0c6a1lfn7"
      }
    },
    {
      "cell_type": "code",
      "source": [
        "def safe_division(a, b):\n",
        "    try:\n",
        "        result = a / b\n",
        "        print(f\"Result: {result}\")\n",
        "    except ZeroDivisionError:\n",
        "        print(\"Error: Division by zero is not allowed.\")\n",
        "    except Exception as e:\n",
        "        print(f\"An unexpected error occurred: {e}\")\n",
        "\n",
        "# Example usage\n",
        "safe_division(10, 0)\n"
      ],
      "metadata": {
        "colab": {
          "base_uri": "https://localhost:8080/"
        },
        "id": "vEOThxjElncL",
        "outputId": "57c521a9-c760-4415-80ef-820694fa5ff9"
      },
      "execution_count": null,
      "outputs": [
        {
          "output_type": "stream",
          "name": "stdout",
          "text": [
            "Error: Division by zero is not allowed.\n"
          ]
        }
      ]
    },
    {
      "cell_type": "markdown",
      "source": [
        "6. Write a Python program that logs an error message to a log file when a division by zero exception occurs."
      ],
      "metadata": {
        "id": "QI0-_M1clnyb"
      }
    },
    {
      "cell_type": "code",
      "source": [
        "import logging\n",
        "\n",
        "# Set up logging configuration\n",
        "logging.basicConfig(filename='error_log.txt', level=logging.ERROR,\n",
        "                    format='%(asctime)s - %(levelname)s - %(message)s')\n",
        "\n",
        "def safe_division(a, b):\n",
        "    try:\n",
        "        result = a / b\n",
        "        print(f\"Result: {result}\")\n",
        "    except ZeroDivisionError as e:\n",
        "        error_message = f\"Division by zero error when dividing {a} by {b}\"\n",
        "        logging.error(error_message)\n",
        "        print(error_message)\n",
        "    except Exception as e:\n",
        "        error_message = f\"An unexpected error occurred: {e}\"\n",
        "        logging.error(error_message)\n",
        "        print(error_message)\n",
        "\n",
        "# Example usage\n",
        "safe_division(10, 0)\n"
      ],
      "metadata": {
        "colab": {
          "base_uri": "https://localhost:8080/"
        },
        "id": "Tpsq2wrPlp9K",
        "outputId": "40817eb6-95f3-43d7-e97e-98c2d745e82c"
      },
      "execution_count": null,
      "outputs": [
        {
          "output_type": "stream",
          "name": "stderr",
          "text": [
            "ERROR:root:Division by zero error when dividing 10 by 0\n"
          ]
        },
        {
          "output_type": "stream",
          "name": "stdout",
          "text": [
            "Division by zero error when dividing 10 by 0\n"
          ]
        }
      ]
    },
    {
      "cell_type": "markdown",
      "source": [
        "7. How do you log information at different levels (INFO, ERROR, WARNING) in Python using the logging module?"
      ],
      "metadata": {
        "id": "BiiWPPGylqc7"
      }
    },
    {
      "cell_type": "code",
      "source": [
        "import logging\n",
        "\n",
        "# Set up logging configuration\n",
        "logging.basicConfig(filename='app.log', level=logging.DEBUG,\n",
        "                    format='%(asctime)s - %(levelname)s - %(message)s')\n",
        "\n",
        "# Log messages at different levels\n",
        "logging.debug('This is a debug message.')   # For debugging purposes\n",
        "logging.info('This is an info message.')    # For general information\n",
        "logging.warning('This is a warning message.')  # For warnings (e.g., non-critical issues)\n",
        "logging.error('This is an error message.')   # For errors (something went wrong)\n",
        "logging.critical('This is a critical message.')  # For critical issues (program might crash)\n",
        "\n",
        "print(\"Logging messages at different levels.\")\n"
      ],
      "metadata": {
        "colab": {
          "base_uri": "https://localhost:8080/"
        },
        "id": "pFWqUGXDlqwx",
        "outputId": "d7b42cbe-4ba2-4268-fa05-d419f35e74c1"
      },
      "execution_count": null,
      "outputs": [
        {
          "output_type": "stream",
          "name": "stderr",
          "text": [
            "WARNING:root:This is a warning message.\n",
            "ERROR:root:This is an error message.\n",
            "CRITICAL:root:This is a critical message.\n"
          ]
        },
        {
          "output_type": "stream",
          "name": "stdout",
          "text": [
            "Logging messages at different levels.\n"
          ]
        }
      ]
    },
    {
      "cell_type": "markdown",
      "source": [
        "8. Write a program to handle a file opening error using exception handling."
      ],
      "metadata": {
        "id": "CWhVfZINlq-s"
      }
    },
    {
      "cell_type": "code",
      "source": [
        "def open_file(filename):\n",
        "    try:\n",
        "        # Try to open the file\n",
        "        with open(filename, 'r') as file:\n",
        "            content = file.read()\n",
        "            print(\"File content:\\n\", content)\n",
        "    except FileNotFoundError:\n",
        "        # Handles the case when the file does not exist\n",
        "        print(f\"Error: The file '{filename}' was not found.\")\n",
        "    except PermissionError:\n",
        "        # Handles the case when you don't have permission to access the file\n",
        "        print(f\"Error: You do not have permission to open the file '{filename}'.\")\n",
        "    except Exception as e:\n",
        "        # Catches any other unforeseen errors\n",
        "        print(f\"An unexpected error occurred: {e}\")\n",
        "\n",
        "# Example usage\n",
        "open_file('nonexistent_file.txt')\n"
      ],
      "metadata": {
        "colab": {
          "base_uri": "https://localhost:8080/"
        },
        "id": "NnQ-_tk8lrMb",
        "outputId": "4095f310-4d58-4b0d-80bc-03a5cf8b1a6f"
      },
      "execution_count": null,
      "outputs": [
        {
          "output_type": "stream",
          "name": "stdout",
          "text": [
            "Error: The file 'nonexistent_file.txt' was not found.\n"
          ]
        }
      ]
    },
    {
      "cell_type": "markdown",
      "source": [
        "9. How can you read a file line by line and store its content in a list in Python?"
      ],
      "metadata": {
        "id": "55odK0A9lrcD"
      }
    },
    {
      "cell_type": "code",
      "source": [
        "def read_file_lines_to_list(filename):\n",
        "    try:\n",
        "        with open(filename, 'r') as file:\n",
        "            lines = file.readlines()  # Read all lines into a list\n",
        "        return [line.strip() for line in lines]  # Remove the newline characters\n",
        "    except Exception as e:\n",
        "        print(f\"Error reading the file: {e}\")\n",
        "        return []\n",
        "\n",
        "# Example usage\n",
        "filename = 'example.txt'\n",
        "lines = read_file_lines_to_list(filename)\n",
        "print(lines)\n"
      ],
      "metadata": {
        "colab": {
          "base_uri": "https://localhost:8080/"
        },
        "id": "1M-B7jM8lrnl",
        "outputId": "6b153ed0-598c-494f-c2e8-da73aabd227f"
      },
      "execution_count": null,
      "outputs": [
        {
          "output_type": "stream",
          "name": "stdout",
          "text": [
            "['Hello, world!']\n"
          ]
        }
      ]
    },
    {
      "cell_type": "markdown",
      "source": [
        "10. How can you append data to an existing file in Python?"
      ],
      "metadata": {
        "id": "n3LzMlDylr1E"
      }
    },
    {
      "cell_type": "code",
      "source": [
        "def append_to_file(filename, data):\n",
        "    try:\n",
        "        # Open the file in append mode\n",
        "        with open(filename, 'a') as file:\n",
        "            file.write(data + '\\n')  # Add a newline after the data (optional)\n",
        "        print(f\"Data successfully appended to '{filename}'.\")\n",
        "    except Exception as e:\n",
        "        print(f\"Error appending data to file: {e}\")\n",
        "\n",
        "# Example usage\n",
        "filename = 'example.txt'\n",
        "data_to_append = \"This is new data to be appended.\"\n",
        "append_to_file(filename, data_to_append)\n"
      ],
      "metadata": {
        "colab": {
          "base_uri": "https://localhost:8080/"
        },
        "id": "3knKNi8NlsBU",
        "outputId": "769d75db-dcb4-4b3b-f77f-d6bd8749d911"
      },
      "execution_count": null,
      "outputs": [
        {
          "output_type": "stream",
          "name": "stdout",
          "text": [
            "Data successfully appended to 'example.txt'.\n"
          ]
        }
      ]
    },
    {
      "cell_type": "markdown",
      "source": [
        "11. Write a Python program that uses a try-except block to handle an error when attempting to access a\n",
        "dictionary key that doesn't exist."
      ],
      "metadata": {
        "id": "0hHv0OrllsNU"
      }
    },
    {
      "cell_type": "code",
      "source": [
        "def access_dict_key(my_dict, key):\n",
        "    try:\n",
        "        # Try to access the key in the dictionary\n",
        "        value = my_dict[key]\n",
        "        print(f\"The value for '{key}' is: {value}\")\n",
        "    except KeyError:\n",
        "        # Handle the case where the key does not exist\n",
        "        print(f\"Error: The key '{key}' does not exist in the dictionary.\")\n",
        "\n",
        "# Example usage\n",
        "my_dict = {'a': 1, 'b': 2, 'c': 3}\n",
        "\n",
        "# Trying to access an existing key\n",
        "access_dict_key(my_dict, 'b')\n",
        "\n",
        "# Trying to access a non-existent key\n",
        "access_dict_key(my_dict, 'z')\n"
      ],
      "metadata": {
        "colab": {
          "base_uri": "https://localhost:8080/"
        },
        "id": "dG36zlqclsZL",
        "outputId": "2343ccc5-7dec-4f41-84cb-c0105054a615"
      },
      "execution_count": null,
      "outputs": [
        {
          "output_type": "stream",
          "name": "stdout",
          "text": [
            "The value for 'b' is: 2\n",
            "Error: The key 'z' does not exist in the dictionary.\n"
          ]
        }
      ]
    },
    {
      "cell_type": "markdown",
      "source": [
        "12. Write a program that demonstrates using multiple except blocks to handle different types of exceptions."
      ],
      "metadata": {
        "id": "oGlQrKV_lsno"
      }
    },
    {
      "cell_type": "code",
      "source": [
        "def handle_multiple_exceptions(a, b):\n",
        "    try:\n",
        "        # Try to perform division\n",
        "        result = a / b\n",
        "        print(f\"Result of division: {result}\")\n",
        "\n",
        "        # Try to access an element in a list\n",
        "        my_list = [1, 2, 3]\n",
        "        print(f\"Accessing element: {my_list[5]}\")  # This will cause an IndexError\n",
        "\n",
        "        # Try to open a file\n",
        "        with open('nonexistent_file.txt', 'r') as file:\n",
        "            content = file.read()\n",
        "            print(content)\n",
        "\n",
        "    except ZeroDivisionError:\n",
        "        print(\"Error: You can't divide by zero.\")\n",
        "    except IndexError:\n",
        "        print(\"Error: Index out of range.\")\n",
        "    except FileNotFoundError:\n",
        "        print(\"Error: The file does not exist.\")\n",
        "    except Exception as e:\n",
        "        print(f\"An unexpected error occurred: {e}\")\n",
        "\n",
        "# Example usage\n",
        "handle_multiple_exceptions(10, 0)  # ZeroDivisionError\n",
        "handle_multiple_exceptions(10, 2)  # IndexError\n"
      ],
      "metadata": {
        "colab": {
          "base_uri": "https://localhost:8080/"
        },
        "id": "K7Vewizflsy8",
        "outputId": "a512eb72-282f-4731-dda2-402527b32d47"
      },
      "execution_count": null,
      "outputs": [
        {
          "output_type": "stream",
          "name": "stdout",
          "text": [
            "Error: You can't divide by zero.\n",
            "Result of division: 5.0\n",
            "Error: Index out of range.\n"
          ]
        }
      ]
    },
    {
      "cell_type": "markdown",
      "source": [
        "13. How would you check if a file exists before attempting to read it in Python?"
      ],
      "metadata": {
        "id": "bD2-u7G9ltAT"
      }
    },
    {
      "cell_type": "code",
      "source": [
        "import os\n",
        "\n",
        "def read_file_if_exists(filename):\n",
        "    if os.path.exists(filename):\n",
        "        try:\n",
        "            with open(filename, 'r') as file:\n",
        "                content = file.read()\n",
        "                print(content)\n",
        "        except Exception as e:\n",
        "            print(f\"An error occurred while reading the file: {e}\")\n",
        "    else:\n",
        "        print(f\"The file '{filename}' does not exist.\")\n",
        "\n",
        "# Example usage\n",
        "filename = 'example.txt'\n",
        "read_file_if_exists(filename)\n"
      ],
      "metadata": {
        "colab": {
          "base_uri": "https://localhost:8080/"
        },
        "id": "iCDhlzUTltKX",
        "outputId": "6a2e9897-2f68-4ce2-9f3d-d6eeb8de9a13"
      },
      "execution_count": null,
      "outputs": [
        {
          "output_type": "stream",
          "name": "stdout",
          "text": [
            "Hello, world!This is new data to be appended.\n",
            "\n"
          ]
        }
      ]
    },
    {
      "cell_type": "markdown",
      "source": [
        "14. Write a program that uses the logging module to log both informational and error messages."
      ],
      "metadata": {
        "id": "dUtT3a02ltWs"
      }
    },
    {
      "cell_type": "code",
      "source": [
        "import logging\n",
        "\n",
        "# Set up logging configuration\n",
        "logging.basicConfig(\n",
        "    filename='app.log',  # Log file where messages will be saved\n",
        "    level=logging.DEBUG,  # Log level, DEBUG includes all levels: DEBUG, INFO, WARNING, ERROR, CRITICAL\n",
        "    format='%(asctime)s - %(levelname)s - %(message)s'  # Log message format\n",
        ")\n",
        "\n",
        "# Log an informational message\n",
        "logging.info('This is an informational message.')\n",
        "\n",
        "# Log a warning message\n",
        "logging.warning('This is a warning message.')\n",
        "\n",
        "# Log an error message\n",
        "logging.error('This is an error message.')\n",
        "\n",
        "# Log a critical message\n",
        "logging.critical('This is a critical message.')\n",
        "\n",
        "# Example of a try-except block to log an exception\n",
        "try:\n",
        "    x = 10 / 0  # This will raise a ZeroDivisionError\n",
        "except ZeroDivisionError as e:\n",
        "    logging.error(f\"An error occurred: {e}\")\n",
        "\n",
        "print(\"Messages have been logged.\")\n"
      ],
      "metadata": {
        "colab": {
          "base_uri": "https://localhost:8080/"
        },
        "id": "3AfDi9T-lthz",
        "outputId": "8ef4e145-8342-4ed4-e948-2878731b3ae4"
      },
      "execution_count": null,
      "outputs": [
        {
          "output_type": "stream",
          "name": "stderr",
          "text": [
            "WARNING:root:This is a warning message.\n",
            "ERROR:root:This is an error message.\n",
            "CRITICAL:root:This is a critical message.\n",
            "ERROR:root:An error occurred: division by zero\n"
          ]
        },
        {
          "output_type": "stream",
          "name": "stdout",
          "text": [
            "Messages have been logged.\n"
          ]
        }
      ]
    },
    {
      "cell_type": "markdown",
      "source": [
        "15. Write a Python program that prints the content of a file and handles the case when the file is empty."
      ],
      "metadata": {
        "id": "6WYmoD6AltuD"
      }
    },
    {
      "cell_type": "code",
      "source": [
        "def print_file_content(filename):\n",
        "    try:\n",
        "        with open(filename, 'r') as file:\n",
        "            content = file.read().strip()  # Read content and strip any leading/trailing whitespace\n",
        "\n",
        "            if content:  # Check if the content is not empty\n",
        "                print(\"File content:\")\n",
        "                print(content)\n",
        "            else:\n",
        "                print(f\"The file '{filename}' is empty.\")\n",
        "    except FileNotFoundError:\n",
        "        print(f\"Error: The file '{filename}' does not exist.\")\n",
        "    except Exception as e:\n",
        "        print(f\"An unexpected error occurred: {e}\")\n",
        "\n",
        "# Example usage\n",
        "filename = 'example.txt'\n",
        "print_file_content(filename)\n"
      ],
      "metadata": {
        "colab": {
          "base_uri": "https://localhost:8080/"
        },
        "id": "Ciu_8lCult4a",
        "outputId": "68db17e1-89e1-4182-d9a0-fd156caf087f"
      },
      "execution_count": null,
      "outputs": [
        {
          "output_type": "stream",
          "name": "stdout",
          "text": [
            "File content:\n",
            "Hello, world!This is new data to be appended.\n"
          ]
        }
      ]
    },
    {
      "cell_type": "markdown",
      "source": [
        "16. Demonstrate how to use memory profiling to check the memory usage of a small program."
      ],
      "metadata": {
        "id": "bV9G-1IIluE6"
      }
    },
    {
      "cell_type": "code",
      "source": [
        "from memory_profiler import profile\n",
        "\n",
        "# Simple function to demonstrate memory profiling\n",
        "@profile\n",
        "def my_function():\n",
        "    # Create a list of numbers\n",
        "    my_list = [i for i in range(10000)]\n",
        "    print(\"List created\")\n",
        "    return my_list\n",
        "\n",
        "if __name__ == \"__main__\":\n",
        "    my_function()\n"
      ],
      "metadata": {
        "colab": {
          "base_uri": "https://localhost:8080/",
          "height": 383
        },
        "id": "FRa0oFMDluSr",
        "outputId": "e33b714b-d77b-4761-9c49-8f70274f2f90"
      },
      "execution_count": null,
      "outputs": [
        {
          "output_type": "error",
          "ename": "ModuleNotFoundError",
          "evalue": "No module named 'memory_profiler'",
          "traceback": [
            "\u001b[0;31m---------------------------------------------------------------------------\u001b[0m",
            "\u001b[0;31mModuleNotFoundError\u001b[0m                       Traceback (most recent call last)",
            "\u001b[0;32m<ipython-input-26-a6ba84a5e69c>\u001b[0m in \u001b[0;36m<cell line: 0>\u001b[0;34m()\u001b[0m\n\u001b[0;32m----> 1\u001b[0;31m \u001b[0;32mfrom\u001b[0m \u001b[0mmemory_profiler\u001b[0m \u001b[0;32mimport\u001b[0m \u001b[0mprofile\u001b[0m\u001b[0;34m\u001b[0m\u001b[0;34m\u001b[0m\u001b[0m\n\u001b[0m\u001b[1;32m      2\u001b[0m \u001b[0;34m\u001b[0m\u001b[0m\n\u001b[1;32m      3\u001b[0m \u001b[0;31m# Simple function to demonstrate memory profiling\u001b[0m\u001b[0;34m\u001b[0m\u001b[0;34m\u001b[0m\u001b[0m\n\u001b[1;32m      4\u001b[0m \u001b[0;34m@\u001b[0m\u001b[0mprofile\u001b[0m\u001b[0;34m\u001b[0m\u001b[0;34m\u001b[0m\u001b[0m\n\u001b[1;32m      5\u001b[0m \u001b[0;32mdef\u001b[0m \u001b[0mmy_function\u001b[0m\u001b[0;34m(\u001b[0m\u001b[0;34m)\u001b[0m\u001b[0;34m:\u001b[0m\u001b[0;34m\u001b[0m\u001b[0;34m\u001b[0m\u001b[0m\n",
            "\u001b[0;31mModuleNotFoundError\u001b[0m: No module named 'memory_profiler'",
            "",
            "\u001b[0;31m---------------------------------------------------------------------------\u001b[0;32m\nNOTE: If your import is failing due to a missing package, you can\nmanually install dependencies using either !pip or !apt.\n\nTo view examples of installing some common dependencies, click the\n\"Open Examples\" button below.\n\u001b[0;31m---------------------------------------------------------------------------\u001b[0m\n"
          ],
          "errorDetails": {
            "actions": [
              {
                "action": "open_url",
                "actionText": "Open Examples",
                "url": "/notebooks/snippets/importing_libraries.ipynb"
              }
            ]
          }
        }
      ]
    },
    {
      "cell_type": "markdown",
      "source": [
        "17. Write a Python program to create and write a list of numbers to a file, one number per line."
      ],
      "metadata": {
        "id": "Pd0Wrqwnna4q"
      }
    },
    {
      "cell_type": "code",
      "source": [
        "def write_numbers_to_file(filename, numbers):\n",
        "    try:\n",
        "        # Open the file in write mode ('w')\n",
        "        with open(filename, 'w') as file:\n",
        "            # Write each number to the file, one number per line\n",
        "            for number in numbers:\n",
        "                file.write(f\"{number}\\n\")\n",
        "        print(f\"Numbers have been written to '{filename}' successfully.\")\n",
        "    except Exception as e:\n",
        "        print(f\"An error occurred: {e}\")\n",
        "\n",
        "# List of numbers to write to the file\n",
        "numbers = [1, 2, 3, 4, 5, 6, 7, 8, 9, 10]\n",
        "\n",
        "# File to write the numbers to\n",
        "filename = 'numbers.txt'\n",
        "\n",
        "# Call the function to write numbers to the file\n",
        "write_numbers_to_file(filename, numbers)\n"
      ],
      "metadata": {
        "id": "gs7D4aDKnZra",
        "outputId": "b32e1186-005e-4fb0-f40b-6065e61f95cf",
        "colab": {
          "base_uri": "https://localhost:8080/"
        }
      },
      "execution_count": null,
      "outputs": [
        {
          "output_type": "stream",
          "name": "stdout",
          "text": [
            "Numbers have been written to 'numbers.txt' successfully.\n"
          ]
        }
      ]
    },
    {
      "cell_type": "markdown",
      "source": [
        "18.  How would you implement a basic logging setup that logs to a file with rotation after 1MB?"
      ],
      "metadata": {
        "id": "Oc_pbHCendYD"
      }
    },
    {
      "cell_type": "code",
      "source": [
        "import logging\n",
        "from logging.handlers import RotatingFileHandler\n",
        "\n",
        "# Set up logging configuration with rotation after 1MB\n",
        "log_file = 'app.log'\n",
        "\n",
        "# Create a rotating file handler that will rotate the log file after it reaches 1MB (1048576 bytes)\n",
        "handler = RotatingFileHandler(log_file, maxBytes=1048576, backupCount=3)  # Keeps 3 backup files\n",
        "\n",
        "# Create a logging format\n",
        "formatter = logging.Formatter('%(asctime)s - %(levelname)s - %(message)s')\n",
        "\n",
        "# Apply the formatter to the handler\n",
        "handler.setFormatter(formatter)\n",
        "\n",
        "# Get the logger\n",
        "logger = logging.getLogger()\n",
        "\n",
        "# Set the log level to DEBUG (you can adjust this level as needed)\n",
        "logger.setLevel(logging.DEBUG)\n",
        "\n",
        "# Add the rotating file handler to the logger\n",
        "logger.addHandler(handler)\n",
        "\n",
        "# Example log messages\n",
        "logger.debug(\"This is a debug message.\")\n",
        "logger.info(\"This is an informational message.\")\n",
        "logger.warning(\"This is a warning message.\")\n",
        "logger.error(\"This is an error message.\")\n",
        "logger.critical(\"This is a critical message.\")\n"
      ],
      "metadata": {
        "id": "P2xYyMw7ndwT",
        "outputId": "b26415b2-b846-4609-83c8-e23291cb76b7",
        "colab": {
          "base_uri": "https://localhost:8080/"
        }
      },
      "execution_count": null,
      "outputs": [
        {
          "output_type": "stream",
          "name": "stderr",
          "text": [
            "DEBUG:root:This is a debug message.\n",
            "INFO:root:This is an informational message.\n",
            "WARNING:root:This is a warning message.\n",
            "ERROR:root:This is an error message.\n",
            "CRITICAL:root:This is a critical message.\n"
          ]
        }
      ]
    },
    {
      "cell_type": "markdown",
      "source": [
        "19. Write a program that handles both IndexError and KeyError using a try-except block."
      ],
      "metadata": {
        "id": "2qelh9yInePb"
      }
    },
    {
      "cell_type": "code",
      "source": [
        "def handle_errors():\n",
        "    my_list = [1, 2, 3]\n",
        "    my_dict = {'a': 100, 'b': 200}\n",
        "\n",
        "    try:\n",
        "        # Intentionally accessing an out-of-range index\n",
        "        print(\"List item:\", my_list[5])\n",
        "\n",
        "        # Intentionally accessing a missing dictionary key\n",
        "        print(\"Dictionary value:\", my_dict['z'])\n",
        "\n",
        "    except IndexError as ie:\n",
        "        print(\"Caught an IndexError:\", ie)\n",
        "\n",
        "    except KeyError as ke:\n",
        "        print(\"Caught a KeyError:\", ke)\n",
        "\n",
        "# Run the function\n",
        "handle_errors()\n"
      ],
      "metadata": {
        "id": "jORR847Ynep6",
        "outputId": "be0931ec-2b35-4f21-a0cb-c0cd5b5a0243",
        "colab": {
          "base_uri": "https://localhost:8080/"
        }
      },
      "execution_count": null,
      "outputs": [
        {
          "output_type": "stream",
          "name": "stdout",
          "text": [
            "Caught an IndexError: list index out of range\n"
          ]
        }
      ]
    },
    {
      "cell_type": "markdown",
      "source": [
        "20. How would you open a file and read its contents using a context manager in Python?"
      ],
      "metadata": {
        "id": "Tji5pjzWnfIl"
      }
    },
    {
      "cell_type": "code",
      "source": [
        "filename = 'example.txt'\n",
        "\n",
        "with open(filename, 'r') as file:\n",
        "    contents = file.read()\n",
        "    print(contents)\n"
      ],
      "metadata": {
        "id": "fdT8VD7snfkr",
        "outputId": "f7199235-ccfc-4d75-ffc8-92f4fb138d99",
        "colab": {
          "base_uri": "https://localhost:8080/"
        }
      },
      "execution_count": null,
      "outputs": [
        {
          "output_type": "stream",
          "name": "stdout",
          "text": [
            "Hello, world!\n"
          ]
        }
      ]
    },
    {
      "cell_type": "markdown",
      "source": [
        "21. Write a Python program that reads a file and prints the number of occurrences of a specific world."
      ],
      "metadata": {
        "id": "R84W6Ougnfz6"
      }
    },
    {
      "cell_type": "code",
      "source": [
        "def count_word_occurrences(filename, target_word):\n",
        "    try:\n",
        "        with open(filename, 'r') as file:\n",
        "            content = file.read()\n",
        "            # Convert content to lowercase and split into words\n",
        "            words = content.lower().split()\n",
        "            # Count occurrences of the target word (also in lowercase)\n",
        "            count = words.count(target_word.lower())\n",
        "            print(f\"The word '{target_word}' occurs {count} times in '{filename}'.\")\n",
        "    except Exception as e:\n",
        "        print(f\"Error reading file: {e}\")\n",
        "\n",
        "# Example usage\n",
        "filename = 'sample.txt'\n",
        "word_to_search = 'example'\n",
        "count_word_occurrences(filename, word_to_search)\n"
      ],
      "metadata": {
        "id": "GzIK-lf7ngGj",
        "outputId": "a9fb8c34-ccb6-42c4-8034-c35223639b37",
        "colab": {
          "base_uri": "https://localhost:8080/"
        }
      },
      "execution_count": null,
      "outputs": [
        {
          "output_type": "stream",
          "name": "stdout",
          "text": [
            "Error reading file: [Errno 2] No such file or directory: 'sample.txt'\n"
          ]
        }
      ]
    },
    {
      "cell_type": "markdown",
      "source": [
        "22. How can you check if a file is empty before attempting to read its contents?"
      ],
      "metadata": {
        "id": "F_QX-QhgntJs"
      }
    },
    {
      "cell_type": "code",
      "source": [
        "import os\n",
        "\n",
        "def is_file_empty(filename):\n",
        "    return os.path.isfile(filename) and os.path.getsize(filename) == 0\n",
        "\n",
        "# Example usage\n",
        "filename = 'example.txt'\n",
        "\n",
        "if is_file_empty(filename):\n",
        "    print(f\"The file '{filename}' is empty.\")\n",
        "else:\n",
        "    with open(filename, 'r') as file:\n",
        "        contents = file.read()\n",
        "        print(\"File contents:\\n\", contents)\n"
      ],
      "metadata": {
        "id": "XghxA01yntoz",
        "outputId": "c825ecc5-771e-46a1-f974-19be5fbeb16e",
        "colab": {
          "base_uri": "https://localhost:8080/"
        }
      },
      "execution_count": null,
      "outputs": [
        {
          "output_type": "stream",
          "name": "stdout",
          "text": [
            "File contents:\n",
            " Hello, world!\n"
          ]
        }
      ]
    },
    {
      "cell_type": "markdown",
      "source": [
        "23. Write a Python program that writes to a log file when an error occurs during file handling."
      ],
      "metadata": {
        "id": "T7zEBoxynt_q"
      }
    },
    {
      "cell_type": "code",
      "source": [
        "def read_file(filename):\n",
        "    try:\n",
        "        with open(filename, 'r') as file:\n",
        "            content = file.read()\n",
        "            print(\"File content:\\n\", content)\n",
        "    except Exception as e:\n",
        "        log_error(f\"Error reading file '{filename}': {str(e)}\")\n",
        "\n",
        "def log_error(message):\n",
        "    with open('error_log.txt', 'a') as log_file:\n",
        "        log_file.write(message + '\\n')\n",
        "\n",
        "# Example usage\n",
        "read_file('nonexistent_file.txt')\n"
      ],
      "metadata": {
        "id": "WU9qDBTeny1D"
      },
      "execution_count": null,
      "outputs": []
    }
  ]
}